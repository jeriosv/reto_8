{
 "cells": [
  {
   "cell_type": "code",
   "execution_count": null,
   "metadata": {},
   "outputs": [
    {
     "ename": "",
     "evalue": "",
     "output_type": "error",
     "traceback": [
      "\u001b[1;31mRunning cells with '/usr/bin/python3' requires the ipykernel package.\n",
      "\u001b[1;31mRun the following command to install 'ipykernel' into the Python environment. \n",
      "\u001b[1;31mCommand: '/usr/bin/python3 -m pip install ipykernel -U --user --force-reinstall'"
     ]
    }
   ],
   "source": [
    "range(1,101)            # Coleccion Rango con intervalo de 0 hasta 101\n",
    "for i in range(1,101):  # Bucle for con la colección range\n",
    "    print(\"El número \" + str(i) + \" elevado al cuadrado es \" + str(i**2)) # Imprimir resultados"
   ]
  },
  {
   "cell_type": "code",
   "execution_count": null,
   "metadata": {},
   "outputs": [],
   "source": [
    "Pares=[]                # Crear una lista vacia para los números pares\n",
    "Impares=[]              # Crear una lista vacia para los números impares\n",
    "for i in range(1,1001): # Bucle for con la colección range\n",
    "    if i%2==0:          # Si el resíduo de la división es cero es par\n",
    "        Pares.append(i) # Agregar el número par a la lista\n",
    "    else:               # Sino, es impar\n",
    "        Impares.append(i) # Agregar el número impar a la lista\n",
    "print(\"Los números pares desde 0 hasta 1000 son: \" + str(Pares))        # Imprimir pares \n",
    "print(\"\\nLos números impares desde 0 hasta 1000 son: \" + str(Impares))  # Imprimir impares "
   ]
  },
  {
   "cell_type": "code",
   "execution_count": null,
   "metadata": {},
   "outputs": [],
   "source": [
    "n=int(input(\"Ingrese un número entero (mayor o igual que 2): \"))  # Ingreso del usuario\n",
    "def pares_hasta_n(n):         # Definir unas función para ir hasta n \n",
    "    pares = []                # Crear lista vacia \n",
    "    for i in range(1,n+1):    # Bucle for con la colección range\n",
    "        if i % 2 == 0:        # Si el resíduo es igual a cero es par, se inserta a la lista \n",
    "            pares.insert(0,i) # Inserta a la lista vacía el número par i. La posición en la que se inserta el elemento es el índice 0, al principio de la lista.\n",
    "    return pares \n",
    "print(\"Los números pares decrecientes de \" + str(n) + \" hasta 2 son: \"+ str(pares_hasta_n(n)))  # Imprimir resultado"
   ]
  },
  {
   "cell_type": "code",
   "execution_count": null,
   "metadata": {},
   "outputs": [],
   "source": [
    "def factorial(n):           # Función para calcular el factorial de un número\n",
    "    fact = 1\n",
    "    for i in range(1, n+1): # Bucle for con la colección range\n",
    "        fact *= i           # Multiplica fact por cada número del rango en cada iteración\n",
    "    return fact             # Retorna el nuevo valor de fact\n",
    "\n",
    "def imprimir_factorial(n):  # Función que imprime los números desde 1 hasta n, y su factorial \n",
    "    for i in range(1, n+1): # Bucle for con la colección range\n",
    "        print(i, \"! =\", factorial(i)) # Imprimir resultado\n",
    "\n",
    "n=int(input(\"Ingrese el número entero hasta el cual calcula el factorial: \")) # Ingreso del usuario\n",
    "imprimir_factorial(n)"
   ]
  },
  {
   "cell_type": "code",
   "execution_count": null,
   "metadata": {},
   "outputs": [],
   "source": [
    "n = int(input(\"Introduce un número entero (la potencia para 2): \")) # Ingreso del usuario\n",
    "respuesta = 1      # Inicializa\n",
    "\n",
    "for i in range(n): # Bucle for con la colección range\n",
    "    respuesta *= 2 # En cada iteración, multiplicamos respuesta por 2 y lo asignamos a respuesta\n",
    "\n",
    "print(\" 2 elevado a la \" + str(n)+ \" es igual a \" + str(respuesta)) # Imprimir resultado"
   ]
  },
  {
   "cell_type": "code",
   "execution_count": null,
   "metadata": {},
   "outputs": [],
   "source": [
    "base = float(input(\"Ingrese un número real (base): \"))         # Ingrese el usuario la base \n",
    "potencia = int(input(\"Ingrese un número entero (potencia): \")) # Ingrese el usuario la potencia\n",
    "\n",
    "respuesta = 1             # Inicializa\n",
    "\n",
    "for i in range(potencia): # Se multiplica x, n veces\n",
    "    respuesta *= base\n",
    "\n",
    "print(\" El resultado de \" + str(base) + \" elevado a la \" + str(potencia) + \" es \" + str(respuesta) ) # Imprimir resultado"
   ]
  },
  {
   "cell_type": "code",
   "execution_count": null,
   "metadata": {},
   "outputs": [],
   "source": [
    "for i in range(1, 10):     # Bucle for con la colección range del 1 al 9\n",
    "    print(f\"\\nLa Tabla del {i} :\") \n",
    "    for j in range(1, 11): # Bucle for con la colección range del 1 al 10\n",
    "        print(f\"{i} x {j} = {i*j}\") # Imprimir resultado"
   ]
  },
  {
   "cell_type": "code",
   "execution_count": null,
   "metadata": {},
   "outputs": [],
   "source": [
    "import math \n",
    "\n",
    "def aproximacion_exp(x, n):\n",
    "    aprox = 0.0        # Inicializa \n",
    "    for i in range(n):  # Bucle for con la colección range que suma los primeros n términos de la serie de Maclaurin\n",
    "        aprox += x**i / math.factorial(i) # Calcula el término actual de la serie de Maclaurin y lo suma a aprox\n",
    "    real = math.exp(x)                    # Calcula el valor real de la función exponencial en x\n",
    "    error = abs(real - aprox)             # Calcula el error absoluto entre la aproximación y el valor real\n",
    "    porcentaje_error = error / real * 100 # Calcula el porcentaje del error\n",
    "\n",
    "    print(f\"Aproximación: {aprox:.6f}\") # Imprime la aproximación\n",
    "    print(f\"Valor real:   {real:.6f}\")    # Imprime el valor real \n",
    "    print(f\"Diferencia:   {error:.6f}\")   # Imprime la diferencia entre ambos\n",
    "    print(f\"Porcentaje de error: {porcentaje_error:.2f} %\")  # Imprime el porcentaje del error\n",
    "\n",
    "    if porcentaje_error <= 0.1:   # Si el porcentaje de error es menor o mayor a 0.1%, imprimir\n",
    "        print (f\"El porcentaje de error es menor a 0.1%: es de {porcentaje_error:.2f} %\") \n",
    "    else:\n",
    "        print (f\"El porcentaje de error es mayor a 0.1%: es de {porcentaje_error:.2f} %\") \n",
    "\n",
    "x = float(input(\"Ingrese un número real x: \")) # Ingreso del usuario de x\n",
    "n = int(input(\"Ingrese el número de términos de la serie de Maclaurin a aproximar: \"))  # Ingreso del usario de n términos\n",
    "\n",
    "aproximacion_exp(x, n) # Llamar a la función "
   ]
  },
  {
   "cell_type": "code",
   "execution_count": null,
   "metadata": {},
   "outputs": [],
   "source": [
    "import math\n",
    "\n",
    "def aproximacion_seno(x, n):   # Función \n",
    "    aprox = 0                  # Inicializa\n",
    "    for i in range(n):         # Bucle for con la colección range que suma los primeros n términos de la serie de Maclaurin\n",
    "        term = ((-1)**i * x**(2*i + 1)) / math.factorial(2*i + 1)# Calcula el término actual de la serie de Maclaurin y lo suma a aprox\n",
    "        aprox += term         # Sumamos el término actual a la aproximación acumulada\n",
    "    real = math.sin(x)\n",
    "    error = abs(real - aprox) # Calcular el error absoluto entre la aproximación y el valor real \n",
    "    porcentaje_error = error / real * 100  # Calcula el porcentaje del error\n",
    "    \n",
    "    print(f\"Aproximación: {aprox:.6f}\")  # Imprimir la aproximación\n",
    "    print(f\"Valor real:   {real:.6f}\")    # Imprimir el valor real \n",
    "    print(f\"Diferencia:   {error:.6f}\")   # Imprimir el error \n",
    "    print(f\"Porcentaje de error: {porcentaje_error:.6f} %\")  # Imprimir el porcentaje de error\n",
    "\n",
    "    if porcentaje_error <= 0.1:   # Si el porcentaje de error es menor o mayor a 0.1%, imprimir\n",
    "        print (f\"El porcentaje de error es menor a 0.1%: es de {porcentaje_error:.6f} %\") \n",
    "    else:\n",
    "        print (f\"El porcentaje de error es mayor a 0.1%: es de {porcentaje_error:.6f} %\") \n",
    "\n",
    "x = float(input(\"Ingrese un número real x: \")) # Ingreso del usuario de x\n",
    "n = int(input(\"Ingrese el número de términos de la serie de Maclaurin a aproximar: \"))  # Ingreso del usario de n términos\n",
    "\n",
    "aproximacion_seno(x, n) # Llamar a la función"
   ]
  },
  {
   "cell_type": "code",
   "execution_count": null,
   "metadata": {},
   "outputs": [],
   "source": [
    "import math\n",
    "\n",
    "def aproximacion_arctan(x, n): # Definir la función\n",
    "    if x < -1 or x > 1: # Asegurarse que el valor de x está en el rango [-1, 1]\n",
    "        print(\"Error: el valor de x debe estar en el rango [-1, 1].\")\n",
    "        return\n",
    "\n",
    "    aprox = 0         # Inicializa \n",
    "    for i in range(n): # Bucle for con la colección range que suma los primeros n términos de la serie de Maclaurin\n",
    "        term = ((-1)**i * x**(2*i + 1)) / (2*i + 1) # Calcula cada término de la serie de Maclaurin \n",
    "        aprox += term # Suma el término actual a la aproximación acumulada\n",
    "\n",
    "    real = math.atan(x)            # Calcula el valor real\n",
    "    error = abs(real - aprox)      # Calcula el error absoluto entre la aproximación y el valor real \n",
    "    porcentaje_error = error / real * 100 # Calcula el porcentaje de error\n",
    "\n",
    "    print(f\"Aproximación: {aprox:.6f}\")       # Imprimir la aproximación\n",
    "    print(f\"Valor real:   {real:.6f}\")        # Imprimir el valor real\n",
    "    print(f\"Diferencia:   {error:.6f}\")       # Imprimir el error absoluto\n",
    "    print(f\"Porcentaje de error: {porcentaje_error:.2f} %\")  # Imprimir el porcentaje de error\n",
    "\n",
    "    if porcentaje_error <= 0.1:   # Si el porcentaje de error es menor o mayor a 0.1%, imprimir\n",
    "        print (f\"El porcentaje de error es menor a 0.1%: es de {porcentaje_error:.6f} %\") \n",
    "    else:\n",
    "        print (f\"El porcentaje de error es mayor a 0.1%: es de {porcentaje_error:.6f} %\") \n",
    "\n",
    "x = float(input(\"Ingrese un número real x: \")) # Ingreso del usuario de x\n",
    "n = int(input(\"Ingrese el número de términos de la serie de Maclaurin a aproximar: \"))  # Ingreso del usario de n términos\n",
    "\n",
    "aproximacion_arctan(x, n) # Llamar a la función "
   ]
  }
 ],
 "metadata": {
  "kernelspec": {
   "display_name": "Python 3",
   "language": "python",
   "name": "python3"
  },
  "language_info": {
   "name": "python",
   "version": "3.9.6"
  },
  "orig_nbformat": 4
 },
 "nbformat": 4,
 "nbformat_minor": 2
}
